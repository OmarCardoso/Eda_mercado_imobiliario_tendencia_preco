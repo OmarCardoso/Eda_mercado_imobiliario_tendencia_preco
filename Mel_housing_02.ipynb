{
 "cells": [
  {
   "cell_type": "code",
   "execution_count": 1,
   "id": "1e1a4486",
   "metadata": {},
   "outputs": [],
   "source": [
    "import pandas as pd"
   ]
  },
  {
   "cell_type": "code",
   "execution_count": 2,
   "id": "d23591e3",
   "metadata": {},
   "outputs": [],
   "source": [
    "# ler dataset\n",
    "mel_data = pd.read_csv(r\"C:\\Users\\HP\\Desktop\\2022\\kaggle\\Melbourne_Housing\\melb_data.csv\")"
   ]
  },
  {
   "cell_type": "code",
   "execution_count": 4,
   "id": "12e3c1b7",
   "metadata": {},
   "outputs": [],
   "source": [
    "# Filtrar linhas sem preço de venda\n",
    "filter_mel_data = mel_data.dropna(axis=0)"
   ]
  },
  {
   "cell_type": "code",
   "execution_count": 15,
   "id": "2eb263d9",
   "metadata": {},
   "outputs": [],
   "source": [
    "# Escolhe target e colunas\n",
    "y = filter_mel_data.Price\n",
    "mel_colunas = ['Rooms', 'Bathroom', 'Landsize', 'BuildingArea', \n",
    "                        'YearBuilt', 'Lattitude', 'Longtitude']\n",
    "X = filter_mel_data[mel_colunas]"
   ]
  },
  {
   "cell_type": "code",
   "execution_count": 9,
   "id": "bfb7c772",
   "metadata": {},
   "outputs": [
    {
     "name": "stdout",
     "output_type": "stream",
     "text": [
      "Requirement already satisfied: sklearn in c:\\users\\hp\\anaconda3\\lib\\site-packages (0.0)\n",
      "Requirement already satisfied: scikit-learn in c:\\users\\hp\\anaconda3\\lib\\site-packages (from sklearn) (0.24.2)\n",
      "Requirement already satisfied: threadpoolctl>=2.0.0 in c:\\users\\hp\\anaconda3\\lib\\site-packages (from scikit-learn->sklearn) (2.2.0)\n",
      "Requirement already satisfied: scipy>=0.19.1 in c:\\users\\hp\\anaconda3\\lib\\site-packages (from scikit-learn->sklearn) (1.7.1)\n",
      "Requirement already satisfied: joblib>=0.11 in c:\\users\\hp\\anaconda3\\lib\\site-packages (from scikit-learn->sklearn) (1.1.0)\n",
      "Requirement already satisfied: numpy>=1.13.3 in c:\\users\\hp\\anaconda3\\lib\\site-packages (from scikit-learn->sklearn) (1.20.3)\n",
      "Note: you may need to restart the kernel to use updated packages.\n"
     ]
    }
   ],
   "source": [
    "pip install sklearn"
   ]
  },
  {
   "cell_type": "code",
   "execution_count": 16,
   "id": "f7b8331a",
   "metadata": {},
   "outputs": [
    {
     "data": {
      "text/plain": [
       "DecisionTreeRegressor()"
      ]
     },
     "execution_count": 16,
     "metadata": {},
     "output_type": "execute_result"
    }
   ],
   "source": [
    "# Importa a biblioteca DecisionTreeeRegressor\n",
    "from sklearn.tree import DecisionTreeRegressor\n",
    "\n",
    "# Define modelo. \n",
    "melbourne_model = DecisionTreeRegressor()\n",
    "\n",
    "# Ajusta modelo\n",
    "melbourne_model.fit(X, y)"
   ]
  },
  {
   "cell_type": "code",
   "execution_count": 17,
   "id": "a70c5769",
   "metadata": {},
   "outputs": [
    {
     "data": {
      "text/plain": [
       "434.71594577146544"
      ]
     },
     "execution_count": 17,
     "metadata": {},
     "output_type": "execute_result"
    }
   ],
   "source": [
    "# Calcula a media de erro absoluto\n",
    "from sklearn.metrics import mean_absolute_error\n",
    "\n",
    "previsao_home_prices = melbourne_model.predict(X)\n",
    "mean_absolute_error(y, previsao_home_prices)"
   ]
  },
  {
   "cell_type": "code",
   "execution_count": 18,
   "id": "9fb06356",
   "metadata": {},
   "outputs": [
    {
     "name": "stdout",
     "output_type": "stream",
     "text": [
      "266157.8921885087\n"
     ]
    }
   ],
   "source": [
    "# Usando validação com train_test_split\n",
    "from sklearn.model_selection import train_test_split\n",
    "\n",
    "# split data em training and validation data, para ambas as colunas e target\n",
    "# o split se baseia na geração de números randômicos. Fornecer valor numérico para random_state \n",
    "# garantira que teremos a mesma variação quando executar o este script\n",
    "train_X, val_X, train_y, val_y = train_test_split(X, y, random_state = 0)\n",
    "\n",
    "# Define modelo\n",
    "melbourne_model.fit(train_X, train_y)\n",
    "\n",
    "# Encontra previsao de preços com validação dos dados\n",
    "val_predictions = melbourne_model.predict(val_X)\n",
    "print(mean_absolute_error(val_y, val_predictions))\n"
   ]
  },
  {
   "cell_type": "code",
   "execution_count": null,
   "id": "5395fac5",
   "metadata": {},
   "outputs": [],
   "source": []
  }
 ],
 "metadata": {
  "kernelspec": {
   "display_name": "Python 3 (ipykernel)",
   "language": "python",
   "name": "python3"
  },
  "language_info": {
   "codemirror_mode": {
    "name": "ipython",
    "version": 3
   },
   "file_extension": ".py",
   "mimetype": "text/x-python",
   "name": "python",
   "nbconvert_exporter": "python",
   "pygments_lexer": "ipython3",
   "version": "3.9.7"
  }
 },
 "nbformat": 4,
 "nbformat_minor": 5
}
