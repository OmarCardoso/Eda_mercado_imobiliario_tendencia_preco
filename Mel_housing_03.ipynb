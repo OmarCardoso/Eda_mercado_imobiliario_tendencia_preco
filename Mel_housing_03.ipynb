{
 "cells": [
  {
   "cell_type": "code",
   "execution_count": 7,
   "id": "7f8f98f2",
   "metadata": {},
   "outputs": [],
   "source": [
    "import pandas as pd\n",
    "from sklearn.model_selection import train_test_split"
   ]
  },
  {
   "cell_type": "code",
   "execution_count": 2,
   "id": "87517376",
   "metadata": {},
   "outputs": [],
   "source": [
    "# ler dataset\n",
    "mel_data = pd.read_csv(r\"C:\\Users\\HP\\Desktop\\2022\\kaggle\\Melbourne_Housing\\melb_data.csv\")"
   ]
  },
  {
   "cell_type": "code",
   "execution_count": 4,
   "id": "92f80509",
   "metadata": {},
   "outputs": [],
   "source": [
    "# Filtrar linhas sem preço de venda\n",
    "filter_mel_data = mel_data.dropna(axis=0)"
   ]
  },
  {
   "cell_type": "code",
   "execution_count": 5,
   "id": "38cca3f8",
   "metadata": {},
   "outputs": [],
   "source": [
    "# Escolhe target e colunas\n",
    "y = filter_mel_data.Price\n",
    "mel_colunas = ['Rooms', 'Bathroom', 'Landsize', 'BuildingArea', \n",
    "                        'YearBuilt', 'Lattitude', 'Longtitude']\n",
    "X = filter_mel_data[mel_colunas]"
   ]
  },
  {
   "cell_type": "code",
   "execution_count": 8,
   "id": "5555050c",
   "metadata": {},
   "outputs": [],
   "source": [
    "# Sepeara os dados entre training e validationg data, para ambas as features e target\n",
    "# A separação é baseada no randor number gererator. Fornecendo o valor numérico para \n",
    "# o random_state, garantimos que teremos a mesma separação toda vez que executar o script\n",
    "train_X, val_X, train_y, val_y = train_test_split(X, y, random_state = 0)\n"
   ]
  },
  {
   "cell_type": "code",
   "execution_count": 12,
   "id": "de415f05",
   "metadata": {},
   "outputs": [
    {
     "name": "stdout",
     "output_type": "stream",
     "text": [
      "191669.7536453626\n"
     ]
    }
   ],
   "source": [
    "# Estou usando o forest model similar ao construido no codigo Mel_housing_02\n",
    "# Desta vez usando o RandomForestRegressor class no lugar do DecisionTreeRegressor\n",
    "from sklearn.ensemble import RandomForestRegressor\n",
    "from sklearn.metrics import mean_absolute_error\n",
    "\n",
    "forest_model = RandomForestRegressor(random_state=1)\n",
    "forest_model.fit(train_X, train_y)\n",
    "melb_press = forest_model.predict(val_X)\n",
    "print(mean_absolute_error(val_y, melb_press))"
   ]
  },
  {
   "cell_type": "code",
   "execution_count": null,
   "id": "f8f79122",
   "metadata": {},
   "outputs": [],
   "source": []
  }
 ],
 "metadata": {
  "kernelspec": {
   "display_name": "Python 3 (ipykernel)",
   "language": "python",
   "name": "python3"
  },
  "language_info": {
   "codemirror_mode": {
    "name": "ipython",
    "version": 3
   },
   "file_extension": ".py",
   "mimetype": "text/x-python",
   "name": "python",
   "nbconvert_exporter": "python",
   "pygments_lexer": "ipython3",
   "version": "3.9.7"
  }
 },
 "nbformat": 4,
 "nbformat_minor": 5
}
